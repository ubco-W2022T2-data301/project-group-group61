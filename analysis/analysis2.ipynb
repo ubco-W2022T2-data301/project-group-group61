{
 "cells": [
  {
   "cell_type": "markdown",
   "metadata": {},
   "source": [
    "# Pratham Shah"
   ]
  },
  {
   "cell_type": "code",
   "execution_count": 74,
   "metadata": {},
   "outputs": [],
   "source": [
    "import pandas as pd\n",
    "import numpy as np\n",
    "import matplotlib.pyplot as plt\n",
    "import seaborn as sns\n",
    "df1=pd.read_csv('../data/raw/amazon 2.csv')\n"
   ]
  },
  {
   "cell_type": "code",
   "execution_count": 75,
   "metadata": {},
   "outputs": [
    {
     "data": {
      "text/plain": [
       "product_id             object\n",
       "product_name           object\n",
       "category               object\n",
       "discounted_price       object\n",
       "actual_price           object\n",
       "discount_percentage    object\n",
       "rating                 object\n",
       "rating_count           object\n",
       "about_product          object\n",
       "user_id                object\n",
       "user_name              object\n",
       "review_id              object\n",
       "review_title           object\n",
       "review_content         object\n",
       "img_link               object\n",
       "product_link           object\n",
       "dtype: object"
      ]
     },
     "execution_count": 75,
     "metadata": {},
     "output_type": "execute_result"
    }
   ],
   "source": [
    "df1.head()\n",
    "df1.shape\n",
    "df1.columns\n",
    "df1.dtypes"
   ]
  },
  {
   "cell_type": "code",
   "execution_count": 76,
   "metadata": {},
   "outputs": [
    {
     "name": "stdout",
     "output_type": "stream",
     "text": [
      "<class 'pandas.core.frame.DataFrame'>\n",
      "RangeIndex: 1465 entries, 0 to 1464\n",
      "Data columns (total 16 columns):\n",
      " #   Column               Non-Null Count  Dtype \n",
      "---  ------               --------------  ----- \n",
      " 0   product_id           1465 non-null   object\n",
      " 1   product_name         1465 non-null   object\n",
      " 2   category             1465 non-null   object\n",
      " 3   discounted_price     1465 non-null   object\n",
      " 4   actual_price         1465 non-null   object\n",
      " 5   discount_percentage  1465 non-null   object\n",
      " 6   rating               1465 non-null   object\n",
      " 7   rating_count         1463 non-null   object\n",
      " 8   about_product        1465 non-null   object\n",
      " 9   user_id              1465 non-null   object\n",
      " 10  user_name            1465 non-null   object\n",
      " 11  review_id            1465 non-null   object\n",
      " 12  review_title         1465 non-null   object\n",
      " 13  review_content       1465 non-null   object\n",
      " 14  img_link             1465 non-null   object\n",
      " 15  product_link         1465 non-null   object\n",
      "dtypes: object(16)\n",
      "memory usage: 91.6+ KB\n"
     ]
    }
   ],
   "source": [
    "df1.info()\n"
   ]
  },
  {
   "cell_type": "code",
   "execution_count": 77,
   "metadata": {},
   "outputs": [
    {
     "data": {
      "text/plain": [
       "product_id             0\n",
       "product_name           0\n",
       "category               0\n",
       "discounted_price       0\n",
       "actual_price           0\n",
       "discount_percentage    0\n",
       "rating                 0\n",
       "rating_count           0\n",
       "about_product          0\n",
       "user_id                0\n",
       "user_name              0\n",
       "review_id              0\n",
       "review_title           0\n",
       "review_content         0\n",
       "img_link               0\n",
       "product_link           0\n",
       "dtype: int64"
      ]
     },
     "execution_count": 77,
     "metadata": {},
     "output_type": "execute_result"
    }
   ],
   "source": [
    "df1.dropna(axis=0,how=\"any\",inplace=True) #Removing null values frim data set\n",
    "df1.isna().sum() # Check"
   ]
  },
  {
   "cell_type": "markdown",
   "metadata": {},
   "source": [
    "#My EDA is based on 'Discount price', 'rating count', 'category' ,'discount percentage'"
   ]
  },
  {
   "cell_type": "code",
   "execution_count": 78,
   "metadata": {},
   "outputs": [
    {
     "name": "stdout",
     "output_type": "stream",
     "text": [
      "['4.2' '4.0' '3.9' '4.1' '4.3' '4.4' '4.5' '3.7' '3.3' '3.6' '3.4' '3.8'\n",
      " '3.5' '4.6' '3.2' '5.0' '4.7' '3.0' '2.8' '4' '3.1' '4.8' '2.3' '|' '2'\n",
      " '3' '2.6' '2.9']\n"
     ]
    }
   ],
   "source": [
    "print(df1['rating'].unique()) #Find unique values of the 'rating' column"
   ]
  },
  {
   "cell_type": "code",
   "execution_count": 79,
   "metadata": {},
   "outputs": [
    {
     "data": {
      "text/html": [
       "<div>\n",
       "<style scoped>\n",
       "    .dataframe tbody tr th:only-of-type {\n",
       "        vertical-align: middle;\n",
       "    }\n",
       "\n",
       "    .dataframe tbody tr th {\n",
       "        vertical-align: top;\n",
       "    }\n",
       "\n",
       "    .dataframe thead th {\n",
       "        text-align: right;\n",
       "    }\n",
       "</style>\n",
       "<table border=\"1\" class=\"dataframe\">\n",
       "  <thead>\n",
       "    <tr style=\"text-align: right;\">\n",
       "      <th></th>\n",
       "      <th>product_id</th>\n",
       "      <th>product_name</th>\n",
       "      <th>category</th>\n",
       "      <th>discounted_price</th>\n",
       "      <th>actual_price</th>\n",
       "      <th>discount_percentage</th>\n",
       "      <th>rating</th>\n",
       "      <th>rating_count</th>\n",
       "      <th>about_product</th>\n",
       "      <th>user_id</th>\n",
       "      <th>user_name</th>\n",
       "      <th>review_id</th>\n",
       "      <th>review_title</th>\n",
       "      <th>review_content</th>\n",
       "      <th>img_link</th>\n",
       "      <th>product_link</th>\n",
       "    </tr>\n",
       "  </thead>\n",
       "  <tbody>\n",
       "    <tr>\n",
       "      <th>1279</th>\n",
       "      <td>B08L12N5H1</td>\n",
       "      <td>Eureka Forbes car Vac 100 Watts Powerful Sucti...</td>\n",
       "      <td>Home&amp;Kitchen|Kitchen&amp;HomeAppliances|Vacuum,Cle...</td>\n",
       "      <td>₹2,099</td>\n",
       "      <td>₹2,499</td>\n",
       "      <td>16%</td>\n",
       "      <td>|</td>\n",
       "      <td>992</td>\n",
       "      <td>No Installation is provided for this product|1...</td>\n",
       "      <td>AGTDSNT2FKVYEPDPXAA673AIS44A,AER2XFSWNN4LAUCJ5...</td>\n",
       "      <td>Divya,Dr Nefario,Deekshith,Preeti,Prasanth R,P...</td>\n",
       "      <td>R2KKTKM4M9RDVJ,R1O692MZOBTE79,R2WRSEWL56SOS4,R...</td>\n",
       "      <td>Decent product,doesn't pick up sand,Ok ok,Must...</td>\n",
       "      <td>Does the job well,doesn't work on sand. though...</td>\n",
       "      <td>https://m.media-amazon.com/images/W/WEBP_40237...</td>\n",
       "      <td>https://www.amazon.in/Eureka-Forbes-Vacuum-Cle...</td>\n",
       "    </tr>\n",
       "  </tbody>\n",
       "</table>\n",
       "</div>"
      ],
      "text/plain": [
       "      product_id                                       product_name  \\\n",
       "1279  B08L12N5H1  Eureka Forbes car Vac 100 Watts Powerful Sucti...   \n",
       "\n",
       "                                               category discounted_price  \\\n",
       "1279  Home&Kitchen|Kitchen&HomeAppliances|Vacuum,Cle...           ₹2,099   \n",
       "\n",
       "     actual_price discount_percentage rating rating_count  \\\n",
       "1279       ₹2,499                 16%      |          992   \n",
       "\n",
       "                                          about_product  \\\n",
       "1279  No Installation is provided for this product|1...   \n",
       "\n",
       "                                                user_id  \\\n",
       "1279  AGTDSNT2FKVYEPDPXAA673AIS44A,AER2XFSWNN4LAUCJ5...   \n",
       "\n",
       "                                              user_name  \\\n",
       "1279  Divya,Dr Nefario,Deekshith,Preeti,Prasanth R,P...   \n",
       "\n",
       "                                              review_id  \\\n",
       "1279  R2KKTKM4M9RDVJ,R1O692MZOBTE79,R2WRSEWL56SOS4,R...   \n",
       "\n",
       "                                           review_title  \\\n",
       "1279  Decent product,doesn't pick up sand,Ok ok,Must...   \n",
       "\n",
       "                                         review_content  \\\n",
       "1279  Does the job well,doesn't work on sand. though...   \n",
       "\n",
       "                                               img_link  \\\n",
       "1279  https://m.media-amazon.com/images/W/WEBP_40237...   \n",
       "\n",
       "                                           product_link  \n",
       "1279  https://www.amazon.in/Eureka-Forbes-Vacuum-Cle...  "
      ]
     },
     "execution_count": 79,
     "metadata": {},
     "output_type": "execute_result"
    }
   ],
   "source": [
    "df1.loc[df1.rating == '|']"
   ]
  },
  {
   "cell_type": "code",
   "execution_count": 80,
   "metadata": {},
   "outputs": [
    {
     "name": "stdout",
     "output_type": "stream",
     "text": [
      "<class 'pandas.core.frame.DataFrame'>\n",
      "Int64Index: 1462 entries, 0 to 1464\n",
      "Data columns (total 16 columns):\n",
      " #   Column               Non-Null Count  Dtype \n",
      "---  ------               --------------  ----- \n",
      " 0   product_id           1462 non-null   object\n",
      " 1   product_name         1462 non-null   object\n",
      " 2   category             1462 non-null   object\n",
      " 3   discounted_price     1462 non-null   object\n",
      " 4   actual_price         1462 non-null   object\n",
      " 5   discount_percentage  1462 non-null   object\n",
      " 6   rating               1462 non-null   object\n",
      " 7   rating_count         1462 non-null   object\n",
      " 8   about_product        1462 non-null   object\n",
      " 9   user_id              1462 non-null   object\n",
      " 10  user_name            1462 non-null   object\n",
      " 11  review_id            1462 non-null   object\n",
      " 12  review_title         1462 non-null   object\n",
      " 13  review_content       1462 non-null   object\n",
      " 14  img_link             1462 non-null   object\n",
      " 15  product_link         1462 non-null   object\n",
      "dtypes: object(16)\n",
      "memory usage: 102.8+ KB\n"
     ]
    },
    {
     "data": {
      "text/html": [
       "<div>\n",
       "<style scoped>\n",
       "    .dataframe tbody tr th:only-of-type {\n",
       "        vertical-align: middle;\n",
       "    }\n",
       "\n",
       "    .dataframe tbody tr th {\n",
       "        vertical-align: top;\n",
       "    }\n",
       "\n",
       "    .dataframe thead th {\n",
       "        text-align: right;\n",
       "    }\n",
       "</style>\n",
       "<table border=\"1\" class=\"dataframe\">\n",
       "  <thead>\n",
       "    <tr style=\"text-align: right;\">\n",
       "      <th></th>\n",
       "      <th>product_id</th>\n",
       "      <th>product_name</th>\n",
       "      <th>category</th>\n",
       "      <th>discounted_price</th>\n",
       "      <th>actual_price</th>\n",
       "      <th>discount_percentage</th>\n",
       "      <th>rating</th>\n",
       "      <th>rating_count</th>\n",
       "      <th>about_product</th>\n",
       "      <th>user_id</th>\n",
       "      <th>user_name</th>\n",
       "      <th>review_id</th>\n",
       "      <th>review_title</th>\n",
       "      <th>review_content</th>\n",
       "      <th>img_link</th>\n",
       "      <th>product_link</th>\n",
       "    </tr>\n",
       "  </thead>\n",
       "  <tbody>\n",
       "    <tr>\n",
       "      <th>count</th>\n",
       "      <td>1462</td>\n",
       "      <td>1462</td>\n",
       "      <td>1462</td>\n",
       "      <td>1462</td>\n",
       "      <td>1462</td>\n",
       "      <td>1462</td>\n",
       "      <td>1462</td>\n",
       "      <td>1462</td>\n",
       "      <td>1462</td>\n",
       "      <td>1462</td>\n",
       "      <td>1462</td>\n",
       "      <td>1462</td>\n",
       "      <td>1462</td>\n",
       "      <td>1462</td>\n",
       "      <td>1462</td>\n",
       "      <td>1462</td>\n",
       "    </tr>\n",
       "    <tr>\n",
       "      <th>unique</th>\n",
       "      <td>1348</td>\n",
       "      <td>1334</td>\n",
       "      <td>211</td>\n",
       "      <td>550</td>\n",
       "      <td>449</td>\n",
       "      <td>92</td>\n",
       "      <td>27</td>\n",
       "      <td>1142</td>\n",
       "      <td>1290</td>\n",
       "      <td>1191</td>\n",
       "      <td>1191</td>\n",
       "      <td>1191</td>\n",
       "      <td>1191</td>\n",
       "      <td>1209</td>\n",
       "      <td>1409</td>\n",
       "      <td>1462</td>\n",
       "    </tr>\n",
       "    <tr>\n",
       "      <th>top</th>\n",
       "      <td>B07JW9H4J1</td>\n",
       "      <td>Fire-Boltt Ninja Call Pro Plus 1.83\" Smart Wat...</td>\n",
       "      <td>Computers&amp;Accessories|Accessories&amp;Peripherals|...</td>\n",
       "      <td>₹199</td>\n",
       "      <td>₹999</td>\n",
       "      <td>50%</td>\n",
       "      <td>4.1</td>\n",
       "      <td>9,378</td>\n",
       "      <td>[CHARGE &amp; SYNC FUNCTION]- This cable comes wit...</td>\n",
       "      <td>AHIKJUDTVJ4T6DV6IUGFYZ5LXMPA,AE55KTFVNXYFD5FPY...</td>\n",
       "      <td>$@|\\|TO$|-|,Sethu madhav,Akash Thakur,Burger P...</td>\n",
       "      <td>R3F4T5TRYPTMIG,R3DQIEC603E7AY,R1O4Z15FD40PV5,R...</td>\n",
       "      <td>Worked on iPhone 7 and didn’t work on XR,Good ...</td>\n",
       "      <td>I am not big on camera usage, personally. I wa...</td>\n",
       "      <td>https://m.media-amazon.com/images/I/413sCRKobN...</td>\n",
       "      <td>https://www.amazon.in/Wayona-Braided-WN3LG1-Sy...</td>\n",
       "    </tr>\n",
       "    <tr>\n",
       "      <th>freq</th>\n",
       "      <td>3</td>\n",
       "      <td>5</td>\n",
       "      <td>231</td>\n",
       "      <td>52</td>\n",
       "      <td>118</td>\n",
       "      <td>56</td>\n",
       "      <td>244</td>\n",
       "      <td>9</td>\n",
       "      <td>6</td>\n",
       "      <td>10</td>\n",
       "      <td>10</td>\n",
       "      <td>10</td>\n",
       "      <td>10</td>\n",
       "      <td>8</td>\n",
       "      <td>3</td>\n",
       "      <td>1</td>\n",
       "    </tr>\n",
       "  </tbody>\n",
       "</table>\n",
       "</div>"
      ],
      "text/plain": [
       "        product_id                                       product_name  \\\n",
       "count         1462                                               1462   \n",
       "unique        1348                                               1334   \n",
       "top     B07JW9H4J1  Fire-Boltt Ninja Call Pro Plus 1.83\" Smart Wat...   \n",
       "freq             3                                                  5   \n",
       "\n",
       "                                                 category discounted_price  \\\n",
       "count                                                1462             1462   \n",
       "unique                                                211              550   \n",
       "top     Computers&Accessories|Accessories&Peripherals|...             ₹199   \n",
       "freq                                                  231               52   \n",
       "\n",
       "       actual_price discount_percentage rating rating_count  \\\n",
       "count          1462                1462   1462         1462   \n",
       "unique          449                  92     27         1142   \n",
       "top            ₹999                 50%    4.1        9,378   \n",
       "freq            118                  56    244            9   \n",
       "\n",
       "                                            about_product  \\\n",
       "count                                                1462   \n",
       "unique                                               1290   \n",
       "top     [CHARGE & SYNC FUNCTION]- This cable comes wit...   \n",
       "freq                                                    6   \n",
       "\n",
       "                                                  user_id  \\\n",
       "count                                                1462   \n",
       "unique                                               1191   \n",
       "top     AHIKJUDTVJ4T6DV6IUGFYZ5LXMPA,AE55KTFVNXYFD5FPY...   \n",
       "freq                                                   10   \n",
       "\n",
       "                                                user_name  \\\n",
       "count                                                1462   \n",
       "unique                                               1191   \n",
       "top     $@|\\|TO$|-|,Sethu madhav,Akash Thakur,Burger P...   \n",
       "freq                                                   10   \n",
       "\n",
       "                                                review_id  \\\n",
       "count                                                1462   \n",
       "unique                                               1191   \n",
       "top     R3F4T5TRYPTMIG,R3DQIEC603E7AY,R1O4Z15FD40PV5,R...   \n",
       "freq                                                   10   \n",
       "\n",
       "                                             review_title  \\\n",
       "count                                                1462   \n",
       "unique                                               1191   \n",
       "top     Worked on iPhone 7 and didn’t work on XR,Good ...   \n",
       "freq                                                   10   \n",
       "\n",
       "                                           review_content  \\\n",
       "count                                                1462   \n",
       "unique                                               1209   \n",
       "top     I am not big on camera usage, personally. I wa...   \n",
       "freq                                                    8   \n",
       "\n",
       "                                                 img_link  \\\n",
       "count                                                1462   \n",
       "unique                                               1409   \n",
       "top     https://m.media-amazon.com/images/I/413sCRKobN...   \n",
       "freq                                                    3   \n",
       "\n",
       "                                             product_link  \n",
       "count                                                1462  \n",
       "unique                                               1462  \n",
       "top     https://www.amazon.in/Wayona-Braided-WN3LG1-Sy...  \n",
       "freq                                                    1  "
      ]
     },
     "execution_count": 80,
     "metadata": {},
     "output_type": "execute_result"
    }
   ],
   "source": [
    "df1.drop(index=1279 , inplace= True)\n",
    "df1.info()\n",
    "df1.describe()"
   ]
  },
  {
   "cell_type": "code",
   "execution_count": 81,
   "metadata": {},
   "outputs": [
    {
     "name": "stdout",
     "output_type": "stream",
     "text": [
      "Index(['product_id', 'product_name', 'category', 'discounted_price',\n",
      "       'actual_price', 'discount_percentage', 'rating', 'rating_count',\n",
      "       'about_product', 'user_id', 'user_name', 'review_id', 'review_title',\n",
      "       'review_content', 'img_link', 'product_link'],\n",
      "      dtype='object')\n"
     ]
    }
   ],
   "source": [
    "#column names in dataframe\n",
    "print(df1.columns)\n",
    "\n",
    "\n"
   ]
  },
  {
   "cell_type": "code",
   "execution_count": 82,
   "metadata": {},
   "outputs": [
    {
     "data": {
      "text/plain": [
       "array(['Computers&Accessories', 'Computers&Accessories',\n",
       "       'Computers&Accessories', ..., 'Home&Kitchen', 'Home&Kitchen',\n",
       "       'Home&Kitchen'], dtype=object)"
      ]
     },
     "execution_count": 82,
     "metadata": {},
     "output_type": "execute_result"
    }
   ],
   "source": [
    "ned=df1['category'].str.split('|', expand=True)[0].to_numpy()\n",
    "ned"
   ]
  },
  {
   "cell_type": "code",
   "execution_count": 83,
   "metadata": {},
   "outputs": [
    {
     "data": {
      "text/html": [
       "<div>\n",
       "<style scoped>\n",
       "    .dataframe tbody tr th:only-of-type {\n",
       "        vertical-align: middle;\n",
       "    }\n",
       "\n",
       "    .dataframe tbody tr th {\n",
       "        vertical-align: top;\n",
       "    }\n",
       "\n",
       "    .dataframe thead th {\n",
       "        text-align: right;\n",
       "    }\n",
       "</style>\n",
       "<table border=\"1\" class=\"dataframe\">\n",
       "  <thead>\n",
       "    <tr style=\"text-align: right;\">\n",
       "      <th></th>\n",
       "    </tr>\n",
       "    <tr>\n",
       "      <th>category</th>\n",
       "    </tr>\n",
       "  </thead>\n",
       "  <tbody>\n",
       "    <tr>\n",
       "      <th>Car&amp;Motorbike|CarAccessories|InteriorAccessories|AirPurifiers&amp;Ionizers</th>\n",
       "    </tr>\n",
       "    <tr>\n",
       "      <th>Computers&amp;Accessories|Accessories&amp;Peripherals|Adapters|USBtoUSBAdapters</th>\n",
       "    </tr>\n",
       "    <tr>\n",
       "      <th>Computers&amp;Accessories|Accessories&amp;Peripherals|Audio&amp;VideoAccessories|PCHeadsets</th>\n",
       "    </tr>\n",
       "    <tr>\n",
       "      <th>Computers&amp;Accessories|Accessories&amp;Peripherals|Audio&amp;VideoAccessories|PCMicrophones</th>\n",
       "    </tr>\n",
       "    <tr>\n",
       "      <th>Computers&amp;Accessories|Accessories&amp;Peripherals|Audio&amp;VideoAccessories|PCSpeakers</th>\n",
       "    </tr>\n",
       "    <tr>\n",
       "      <th>...</th>\n",
       "    </tr>\n",
       "    <tr>\n",
       "      <th>OfficeProducts|OfficePaperProducts|Paper|Stationery|Pens,Pencils&amp;WritingSupplies|Pens&amp;Refills|GelInkRollerballPens</th>\n",
       "    </tr>\n",
       "    <tr>\n",
       "      <th>OfficeProducts|OfficePaperProducts|Paper|Stationery|Pens,Pencils&amp;WritingSupplies|Pens&amp;Refills|LiquidInkRollerballPens</th>\n",
       "    </tr>\n",
       "    <tr>\n",
       "      <th>OfficeProducts|OfficePaperProducts|Paper|Stationery|Pens,Pencils&amp;WritingSupplies|Pens&amp;Refills|RetractableBallpointPens</th>\n",
       "    </tr>\n",
       "    <tr>\n",
       "      <th>OfficeProducts|OfficePaperProducts|Paper|Stationery|Pens,Pencils&amp;WritingSupplies|Pens&amp;Refills|StickBallpointPens</th>\n",
       "    </tr>\n",
       "    <tr>\n",
       "      <th>Toys&amp;Games|Arts&amp;Crafts|Drawing&amp;PaintingSupplies|ColouringPens&amp;Markers</th>\n",
       "    </tr>\n",
       "  </tbody>\n",
       "</table>\n",
       "<p>211 rows × 0 columns</p>\n",
       "</div>"
      ],
      "text/plain": [
       "Empty DataFrame\n",
       "Columns: []\n",
       "Index: [Car&Motorbike|CarAccessories|InteriorAccessories|AirPurifiers&Ionizers, Computers&Accessories|Accessories&Peripherals|Adapters|USBtoUSBAdapters, Computers&Accessories|Accessories&Peripherals|Audio&VideoAccessories|PCHeadsets, Computers&Accessories|Accessories&Peripherals|Audio&VideoAccessories|PCMicrophones, Computers&Accessories|Accessories&Peripherals|Audio&VideoAccessories|PCSpeakers, Computers&Accessories|Accessories&Peripherals|Audio&VideoAccessories|Webcams&VoIPEquipment|Webcams, Computers&Accessories|Accessories&Peripherals|Cables&Accessories|CableConnectionProtectors, Computers&Accessories|Accessories&Peripherals|Cables&Accessories|Cables|DVICables, Computers&Accessories|Accessories&Peripherals|Cables&Accessories|Cables|EthernetCables, Computers&Accessories|Accessories&Peripherals|Cables&Accessories|Cables|SATACables, Computers&Accessories|Accessories&Peripherals|Cables&Accessories|Cables|USBCables, Computers&Accessories|Accessories&Peripherals|HardDiskBags, Computers&Accessories|Accessories&Peripherals|HardDriveAccessories|Caddies, Computers&Accessories|Accessories&Peripherals|Keyboards,Mice&InputDevices|GraphicTablets, Computers&Accessories|Accessories&Peripherals|Keyboards,Mice&InputDevices|Keyboard&MiceAccessories|DustCovers, Computers&Accessories|Accessories&Peripherals|Keyboards,Mice&InputDevices|Keyboard&MiceAccessories|MousePads, Computers&Accessories|Accessories&Peripherals|Keyboards,Mice&InputDevices|Keyboard&MouseSets, Computers&Accessories|Accessories&Peripherals|Keyboards,Mice&InputDevices|Keyboards, Computers&Accessories|Accessories&Peripherals|Keyboards,Mice&InputDevices|Mice, Computers&Accessories|Accessories&Peripherals|LaptopAccessories, Computers&Accessories|Accessories&Peripherals|LaptopAccessories|Bags&Sleeves|LaptopSleeves&Slipcases, Computers&Accessories|Accessories&Peripherals|LaptopAccessories|CameraPrivacyCovers, Computers&Accessories|Accessories&Peripherals|LaptopAccessories|CoolingPads, Computers&Accessories|Accessories&Peripherals|LaptopAccessories|Lapdesks, Computers&Accessories|Accessories&Peripherals|LaptopAccessories|LaptopChargers&PowerSupplies, Computers&Accessories|Accessories&Peripherals|LaptopAccessories|NotebookComputerStands, Computers&Accessories|Accessories&Peripherals|PCGamingPeripherals|Gamepads, Computers&Accessories|Accessories&Peripherals|PCGamingPeripherals|GamingKeyboards, Computers&Accessories|Accessories&Peripherals|PCGamingPeripherals|GamingMice, Computers&Accessories|Accessories&Peripherals|PCGamingPeripherals|Headsets, Computers&Accessories|Accessories&Peripherals|TabletAccessories|Bags,Cases&Sleeves|Cases, Computers&Accessories|Accessories&Peripherals|TabletAccessories|ScreenProtectors, Computers&Accessories|Accessories&Peripherals|TabletAccessories|Stands, Computers&Accessories|Accessories&Peripherals|USBGadgets|Lamps, Computers&Accessories|Accessories&Peripherals|USBHubs, Computers&Accessories|Accessories&Peripherals|UninterruptedPowerSupplies, Computers&Accessories|Components|InternalHardDrives, Computers&Accessories|Components|InternalSolidStateDrives, Computers&Accessories|Components|Memory, Computers&Accessories|ExternalDevices&DataStorage|ExternalHardDisks, Computers&Accessories|ExternalDevices&DataStorage|ExternalMemoryCardReaders, Computers&Accessories|ExternalDevices&DataStorage|ExternalSolidStateDrives, Computers&Accessories|ExternalDevices&DataStorage|PenDrives, Computers&Accessories|Laptops|TraditionalLaptops, Computers&Accessories|Monitors, Computers&Accessories|NetworkingDevices, Computers&Accessories|NetworkingDevices|DataCards&Dongles, Computers&Accessories|NetworkingDevices|NetworkAdapters|BluetoothAdapters, Computers&Accessories|NetworkingDevices|NetworkAdapters|PowerLANAdapters, Computers&Accessories|NetworkingDevices|NetworkAdapters|WirelessUSBAdapters, Computers&Accessories|NetworkingDevices|Repeaters&Extenders, Computers&Accessories|NetworkingDevices|Routers, Computers&Accessories|Printers,Inks&Accessories|Inks,Toners&Cartridges|InkjetInkCartridges, Computers&Accessories|Printers,Inks&Accessories|Inks,Toners&Cartridges|InkjetInkRefills&Kits, Computers&Accessories|Printers,Inks&Accessories|Inks,Toners&Cartridges|TonerCartridges, Computers&Accessories|Printers,Inks&Accessories|Printers, Computers&Accessories|Printers,Inks&Accessories|Printers|InkjetPrinters, Computers&Accessories|Tablets, Electronics|Accessories|MemoryCards|MicroSD, Electronics|Accessories|MemoryCards|SecureDigitalCards, Electronics|Cameras&Photography|Accessories|Batteries&Chargers|BatteryChargers, Electronics|Cameras&Photography|Accessories|Cleaners|CleaningKits, Electronics|Cameras&Photography|Accessories|Film, Electronics|Cameras&Photography|Accessories|PhotoStudio&Lighting|PhotoBackgroundAccessories|BackgroundSupports, Electronics|Cameras&Photography|Accessories|Tripods&Monopods|CompleteTripodUnits, Electronics|Cameras&Photography|Accessories|Tripods&Monopods|Tabletop&TravelTripods, Electronics|Cameras&Photography|Accessories|Tripods&Monopods|TripodLegs, Electronics|Cameras&Photography|Flashes|Macro&RinglightFlashes, Electronics|Cameras&Photography|SecurityCameras|DomeCameras, Electronics|Cameras&Photography|VideoCameras, Electronics|GeneralPurposeBatteries&BatteryChargers, Electronics|GeneralPurposeBatteries&BatteryChargers|DisposableBatteries, Electronics|GeneralPurposeBatteries&BatteryChargers|RechargeableBatteries, Electronics|Headphones,Earbuds&Accessories|Adapters, Electronics|Headphones,Earbuds&Accessories|Cases, Electronics|Headphones,Earbuds&Accessories|Earpads, Electronics|Headphones,Earbuds&Accessories|Headphones|In-Ear, Electronics|Headphones,Earbuds&Accessories|Headphones|On-Ear, Electronics|Headphones,Earbuds&Accessories|Headphones|Over-Ear, Electronics|HomeAudio|Accessories|Adapters, Electronics|HomeAudio|Accessories|SpeakerAccessories|Mounts, Electronics|HomeAudio|MediaStreamingDevices|StreamingClients, Electronics|HomeAudio|Speakers|BluetoothSpeakers, Electronics|HomeAudio|Speakers|MultimediaSpeakerSystems, Electronics|HomeAudio|Speakers|OutdoorSpeakers, Electronics|HomeAudio|Speakers|SoundbarSpeakers, Electronics|HomeAudio|Speakers|TowerSpeakers, Electronics|HomeTheater,TV&Video|AVReceivers&Amplifiers, Electronics|HomeTheater,TV&Video|Accessories|3DGlasses, Electronics|HomeTheater,TV&Video|Accessories|Cables|HDMICables, Electronics|HomeTheater,TV&Video|Accessories|Cables|OpticalCables, Electronics|HomeTheater,TV&Video|Accessories|Cables|RCACables, Electronics|HomeTheater,TV&Video|Accessories|Cables|SpeakerCables, Electronics|HomeTheater,TV&Video|Accessories|RemoteControls, Electronics|HomeTheater,TV&Video|Accessories|TVMounts,Stands&Turntables|TVWall&CeilingMounts, Electronics|HomeTheater,TV&Video|Projectors, Electronics|HomeTheater,TV&Video|SatelliteEquipment|SatelliteReceivers, Electronics|HomeTheater,TV&Video|Televisions|SmartTelevisions, Electronics|HomeTheater,TV&Video|Televisions|StandardTelevisions, Electronics|Mobiles&Accessories|MobileAccessories|AutomobileAccessories|Cradles, ...]\n",
       "\n",
       "[211 rows x 0 columns]"
      ]
     },
     "execution_count": 83,
     "metadata": {},
     "output_type": "execute_result"
    }
   ],
   "source": [
    "numeric_cols = df1.select_dtypes(include=np.number).columns.tolist()\n",
    "df1.groupby(['category'])[numeric_cols].mean()\n"
   ]
  },
  {
   "cell_type": "code",
   "execution_count": 84,
   "metadata": {},
   "outputs": [
    {
     "data": {
      "text/html": [
       "<div>\n",
       "<style scoped>\n",
       "    .dataframe tbody tr th:only-of-type {\n",
       "        vertical-align: middle;\n",
       "    }\n",
       "\n",
       "    .dataframe tbody tr th {\n",
       "        vertical-align: top;\n",
       "    }\n",
       "\n",
       "    .dataframe thead th {\n",
       "        text-align: right;\n",
       "    }\n",
       "</style>\n",
       "<table border=\"1\" class=\"dataframe\">\n",
       "  <thead>\n",
       "    <tr style=\"text-align: right;\">\n",
       "      <th></th>\n",
       "      <th>product_id</th>\n",
       "      <th>product_name</th>\n",
       "      <th>category</th>\n",
       "      <th>discounted_price</th>\n",
       "      <th>actual_price</th>\n",
       "      <th>discount_percentage</th>\n",
       "      <th>rating</th>\n",
       "      <th>rating_count</th>\n",
       "      <th>about_product</th>\n",
       "      <th>user_id</th>\n",
       "      <th>user_name</th>\n",
       "      <th>review_id</th>\n",
       "      <th>review_title</th>\n",
       "      <th>review_content</th>\n",
       "      <th>img_link</th>\n",
       "      <th>product_link</th>\n",
       "    </tr>\n",
       "  </thead>\n",
       "  <tbody>\n",
       "    <tr>\n",
       "      <th>0</th>\n",
       "      <td>B07JW9H4J1</td>\n",
       "      <td>Wayona Nylon Braided USB to Lightning Fast Cha...</td>\n",
       "      <td>Computers&amp;Accessories|Accessories&amp;Peripherals|...</td>\n",
       "      <td>399</td>\n",
       "      <td>1099</td>\n",
       "      <td>64%</td>\n",
       "      <td>4.2</td>\n",
       "      <td>24,269</td>\n",
       "      <td>High Compatibility : Compatible With iPhone 12...</td>\n",
       "      <td>AG3D6O4STAQKAY2UVGEUV46KN35Q,AHMY5CWJMMK5BJRBB...</td>\n",
       "      <td>Manav,Adarsh gupta,Sundeep,S.Sayeed Ahmed,jasp...</td>\n",
       "      <td>R3HXWT0LRP0NMF,R2AJM3LFTLZHFO,R6AQJGUP6P86,R1K...</td>\n",
       "      <td>Satisfied,Charging is really fast,Value for mo...</td>\n",
       "      <td>Looks durable Charging is fine tooNo complains...</td>\n",
       "      <td>https://m.media-amazon.com/images/W/WEBP_40237...</td>\n",
       "      <td>https://www.amazon.in/Wayona-Braided-WN3LG1-Sy...</td>\n",
       "    </tr>\n",
       "    <tr>\n",
       "      <th>1</th>\n",
       "      <td>B098NS6PVG</td>\n",
       "      <td>Ambrane Unbreakable 60W / 3A Fast Charging 1.5...</td>\n",
       "      <td>Computers&amp;Accessories|Accessories&amp;Peripherals|...</td>\n",
       "      <td>199</td>\n",
       "      <td>349</td>\n",
       "      <td>43%</td>\n",
       "      <td>4.0</td>\n",
       "      <td>43,994</td>\n",
       "      <td>Compatible with all Type C enabled devices, be...</td>\n",
       "      <td>AECPFYFQVRUWC3KGNLJIOREFP5LQ,AGYYVPDD7YG7FYNBX...</td>\n",
       "      <td>ArdKn,Nirbhay kumar,Sagar Viswanathan,Asp,Plac...</td>\n",
       "      <td>RGIQEG07R9HS2,R1SMWZQ86XIN8U,R2J3Y1WL29GWDE,RY...</td>\n",
       "      <td>A Good Braided Cable for Your Type C Device,Go...</td>\n",
       "      <td>I ordered this cable to connect my phone to An...</td>\n",
       "      <td>https://m.media-amazon.com/images/W/WEBP_40237...</td>\n",
       "      <td>https://www.amazon.in/Ambrane-Unbreakable-Char...</td>\n",
       "    </tr>\n",
       "    <tr>\n",
       "      <th>2</th>\n",
       "      <td>B096MSW6CT</td>\n",
       "      <td>Sounce Fast Phone Charging Cable &amp; Data Sync U...</td>\n",
       "      <td>Computers&amp;Accessories|Accessories&amp;Peripherals|...</td>\n",
       "      <td>199</td>\n",
       "      <td>1899</td>\n",
       "      <td>90%</td>\n",
       "      <td>3.9</td>\n",
       "      <td>7,928</td>\n",
       "      <td>【 Fast Charger&amp; Data Sync】-With built-in safet...</td>\n",
       "      <td>AGU3BBQ2V2DDAMOAKGFAWDDQ6QHA,AESFLDV2PT363T2AQ...</td>\n",
       "      <td>Kunal,Himanshu,viswanath,sai niharka,saqib mal...</td>\n",
       "      <td>R3J3EQQ9TZI5ZJ,R3E7WBGK7ID0KV,RWU79XKQ6I1QF,R2...</td>\n",
       "      <td>Good speed for earlier versions,Good Product,W...</td>\n",
       "      <td>Not quite durable and sturdy,https://m.media-a...</td>\n",
       "      <td>https://m.media-amazon.com/images/W/WEBP_40237...</td>\n",
       "      <td>https://www.amazon.in/Sounce-iPhone-Charging-C...</td>\n",
       "    </tr>\n",
       "    <tr>\n",
       "      <th>3</th>\n",
       "      <td>B08HDJ86NZ</td>\n",
       "      <td>boAt Deuce USB 300 2 in 1 Type-C &amp; Micro USB S...</td>\n",
       "      <td>Computers&amp;Accessories|Accessories&amp;Peripherals|...</td>\n",
       "      <td>329</td>\n",
       "      <td>699</td>\n",
       "      <td>53%</td>\n",
       "      <td>4.2</td>\n",
       "      <td>94,363</td>\n",
       "      <td>The boAt Deuce USB 300 2 in 1 cable is compati...</td>\n",
       "      <td>AEWAZDZZJLQUYVOVGBEUKSLXHQ5A,AG5HTSFRRE6NL3M5S...</td>\n",
       "      <td>Omkar dhale,JD,HEMALATHA,Ajwadh a.,amar singh ...</td>\n",
       "      <td>R3EEUZKKK9J36I,R3HJVYCLYOY554,REDECAZ7AMPQC,R1...</td>\n",
       "      <td>Good product,Good one,Nice,Really nice product...</td>\n",
       "      <td>Good product,long wire,Charges good,Nice,I bou...</td>\n",
       "      <td>https://m.media-amazon.com/images/I/41V5FtEWPk...</td>\n",
       "      <td>https://www.amazon.in/Deuce-300-Resistant-Tang...</td>\n",
       "    </tr>\n",
       "    <tr>\n",
       "      <th>4</th>\n",
       "      <td>B08CF3B7N1</td>\n",
       "      <td>Portronics Konnect L 1.2M Fast Charging 3A 8 P...</td>\n",
       "      <td>Computers&amp;Accessories|Accessories&amp;Peripherals|...</td>\n",
       "      <td>154</td>\n",
       "      <td>399</td>\n",
       "      <td>61%</td>\n",
       "      <td>4.2</td>\n",
       "      <td>16,905</td>\n",
       "      <td>[CHARGE &amp; SYNC FUNCTION]- This cable comes wit...</td>\n",
       "      <td>AE3Q6KSUK5P75D5HFYHCRAOLODSA,AFUGIFH5ZAFXRDSZH...</td>\n",
       "      <td>rahuls6099,Swasat Borah,Ajay Wadke,Pranali,RVK...</td>\n",
       "      <td>R1BP4L2HH9TFUP,R16PVJEXKV6QZS,R2UPDB81N66T4P,R...</td>\n",
       "      <td>As good as original,Decent,Good one for second...</td>\n",
       "      <td>Bought this instead of original apple, does th...</td>\n",
       "      <td>https://m.media-amazon.com/images/W/WEBP_40237...</td>\n",
       "      <td>https://www.amazon.in/Portronics-Konnect-POR-1...</td>\n",
       "    </tr>\n",
       "  </tbody>\n",
       "</table>\n",
       "</div>"
      ],
      "text/plain": [
       "   product_id                                       product_name  \\\n",
       "0  B07JW9H4J1  Wayona Nylon Braided USB to Lightning Fast Cha...   \n",
       "1  B098NS6PVG  Ambrane Unbreakable 60W / 3A Fast Charging 1.5...   \n",
       "2  B096MSW6CT  Sounce Fast Phone Charging Cable & Data Sync U...   \n",
       "3  B08HDJ86NZ  boAt Deuce USB 300 2 in 1 Type-C & Micro USB S...   \n",
       "4  B08CF3B7N1  Portronics Konnect L 1.2M Fast Charging 3A 8 P...   \n",
       "\n",
       "                                            category discounted_price  \\\n",
       "0  Computers&Accessories|Accessories&Peripherals|...              399   \n",
       "1  Computers&Accessories|Accessories&Peripherals|...              199   \n",
       "2  Computers&Accessories|Accessories&Peripherals|...              199   \n",
       "3  Computers&Accessories|Accessories&Peripherals|...              329   \n",
       "4  Computers&Accessories|Accessories&Peripherals|...              154   \n",
       "\n",
       "  actual_price discount_percentage rating rating_count  \\\n",
       "0         1099                 64%    4.2       24,269   \n",
       "1          349                 43%    4.0       43,994   \n",
       "2         1899                 90%    3.9        7,928   \n",
       "3          699                 53%    4.2       94,363   \n",
       "4          399                 61%    4.2       16,905   \n",
       "\n",
       "                                       about_product  \\\n",
       "0  High Compatibility : Compatible With iPhone 12...   \n",
       "1  Compatible with all Type C enabled devices, be...   \n",
       "2  【 Fast Charger& Data Sync】-With built-in safet...   \n",
       "3  The boAt Deuce USB 300 2 in 1 cable is compati...   \n",
       "4  [CHARGE & SYNC FUNCTION]- This cable comes wit...   \n",
       "\n",
       "                                             user_id  \\\n",
       "0  AG3D6O4STAQKAY2UVGEUV46KN35Q,AHMY5CWJMMK5BJRBB...   \n",
       "1  AECPFYFQVRUWC3KGNLJIOREFP5LQ,AGYYVPDD7YG7FYNBX...   \n",
       "2  AGU3BBQ2V2DDAMOAKGFAWDDQ6QHA,AESFLDV2PT363T2AQ...   \n",
       "3  AEWAZDZZJLQUYVOVGBEUKSLXHQ5A,AG5HTSFRRE6NL3M5S...   \n",
       "4  AE3Q6KSUK5P75D5HFYHCRAOLODSA,AFUGIFH5ZAFXRDSZH...   \n",
       "\n",
       "                                           user_name  \\\n",
       "0  Manav,Adarsh gupta,Sundeep,S.Sayeed Ahmed,jasp...   \n",
       "1  ArdKn,Nirbhay kumar,Sagar Viswanathan,Asp,Plac...   \n",
       "2  Kunal,Himanshu,viswanath,sai niharka,saqib mal...   \n",
       "3  Omkar dhale,JD,HEMALATHA,Ajwadh a.,amar singh ...   \n",
       "4  rahuls6099,Swasat Borah,Ajay Wadke,Pranali,RVK...   \n",
       "\n",
       "                                           review_id  \\\n",
       "0  R3HXWT0LRP0NMF,R2AJM3LFTLZHFO,R6AQJGUP6P86,R1K...   \n",
       "1  RGIQEG07R9HS2,R1SMWZQ86XIN8U,R2J3Y1WL29GWDE,RY...   \n",
       "2  R3J3EQQ9TZI5ZJ,R3E7WBGK7ID0KV,RWU79XKQ6I1QF,R2...   \n",
       "3  R3EEUZKKK9J36I,R3HJVYCLYOY554,REDECAZ7AMPQC,R1...   \n",
       "4  R1BP4L2HH9TFUP,R16PVJEXKV6QZS,R2UPDB81N66T4P,R...   \n",
       "\n",
       "                                        review_title  \\\n",
       "0  Satisfied,Charging is really fast,Value for mo...   \n",
       "1  A Good Braided Cable for Your Type C Device,Go...   \n",
       "2  Good speed for earlier versions,Good Product,W...   \n",
       "3  Good product,Good one,Nice,Really nice product...   \n",
       "4  As good as original,Decent,Good one for second...   \n",
       "\n",
       "                                      review_content  \\\n",
       "0  Looks durable Charging is fine tooNo complains...   \n",
       "1  I ordered this cable to connect my phone to An...   \n",
       "2  Not quite durable and sturdy,https://m.media-a...   \n",
       "3  Good product,long wire,Charges good,Nice,I bou...   \n",
       "4  Bought this instead of original apple, does th...   \n",
       "\n",
       "                                            img_link  \\\n",
       "0  https://m.media-amazon.com/images/W/WEBP_40237...   \n",
       "1  https://m.media-amazon.com/images/W/WEBP_40237...   \n",
       "2  https://m.media-amazon.com/images/W/WEBP_40237...   \n",
       "3  https://m.media-amazon.com/images/I/41V5FtEWPk...   \n",
       "4  https://m.media-amazon.com/images/W/WEBP_40237...   \n",
       "\n",
       "                                        product_link  \n",
       "0  https://www.amazon.in/Wayona-Braided-WN3LG1-Sy...  \n",
       "1  https://www.amazon.in/Ambrane-Unbreakable-Char...  \n",
       "2  https://www.amazon.in/Sounce-iPhone-Charging-C...  \n",
       "3  https://www.amazon.in/Deuce-300-Resistant-Tang...  \n",
       "4  https://www.amazon.in/Portronics-Konnect-POR-1...  "
      ]
     },
     "execution_count": 84,
     "metadata": {},
     "output_type": "execute_result"
    }
   ],
   "source": [
    "discount_list=[]\n",
    "actual_list =[]\n",
    "for discount, actual in zip(df1['discounted_price'].values, df1['actual_price'].values):\n",
    "    temp_discount = str(discount).replace(\"₹\",\"\").replace(\",\", \"\")\n",
    "    temp_actual = str(actual).replace(\"₹\",\"\").replace(\",\", \"\")\n",
    "    discount_list.append(temp_discount)\n",
    "    actual_list.append(temp_actual)\n",
    "\n",
    "df1['discounted_price']= discount_list\n",
    "df1['actual_price'] = actual_list\n",
    "df1.head()\n"
   ]
  },
  {
   "cell_type": "code",
   "execution_count": 85,
   "metadata": {},
   "outputs": [
    {
     "data": {
      "image/png": "[encoded data removed]",
      "text/plain": [
       "<Figure size 1000x500 with 1 Axes>"
      ]
     },
     "metadata": {},
     "output_type": "display_data"
    }
   ],
   "source": [
    "plt.figure(figsize=(10, 5))\n",
    "plt.scatter(df1['rating'], df1['discounted_price'])\n",
    "plt.xlabel('Rating')\n",
    "plt.ylabel('Discounted Price')\n",
    "plt.title('Rating vs Discounted Price')\n",
    "plt.yscale('log')\n",
    "plt.show()\n",
    "\n"
   ]
  },
  {
   "cell_type": "code",
   "execution_count": 86,
   "metadata": {},
   "outputs": [
    {
     "name": "stdout",
     "output_type": "stream",
     "text": [
      "Empty DataFrame\n",
      "Columns: [product_id, product_name, category, discounted_price, actual_price, discount_percentage, rating, rating_count, about_product, user_id, user_name, review_id, review_title, review_content, img_link, product_link]\n",
      "Index: []\n"
     ]
    }
   ],
   "source": [
    "problem_row = df1[pd.to_numeric(df1['discounted_price'], errors='coerce').isna()]\n",
    "print(problem_row)\n"
   ]
  },
  {
   "cell_type": "markdown",
   "metadata": {},
   "source": [
    "##### The plot shows that most of the products have ratings between 4 and 5 and the discounted price of most products with rating of 4.2 and more is between 100 to 140"
   ]
  },
  {
   "cell_type": "code",
   "execution_count": 87,
   "metadata": {},
   "outputs": [
    {
     "data": {
      "image/png": "[encoded data removed]",
      "text/plain": [
       "<Figure size 2000x500 with 1 Axes>"
      ]
     },
     "metadata": {},
     "output_type": "display_data"
    }
   ],
   "source": [
    "ned = pd.Series(df1['category'].str.split('|', expand=True)[0])\n",
    "plt.figure(figsize=(20,5))\n",
    "sns.histplot(data=ned, x=ned, stat='percent')\n",
    "plt.xlabel('Category')\n",
    "plt.ylabel('Percent')\n",
    "plt.title('Percentage of Products from Different Categories')\n",
    "plt.show()"
   ]
  },
  {
   "cell_type": "code",
   "execution_count": 88,
   "metadata": {},
   "outputs": [
    {
     "data": {
      "image/png": "[encoded data removed]",
      "text/plain": [
       "<Figure size 1200x500 with 2 Axes>"
      ]
     },
     "metadata": {},
     "output_type": "display_data"
    }
   ],
   "source": [
    "\n",
    "fig, axs = plt.subplots(nrows=2, ncols=1, figsize=(12, 5))\n",
    "fig.suptitle('Relationship between Rating and Actual Price')\n",
    "\n",
    "\n",
    "# Hist plot of the distribution of prices\n",
    "sns.histplot(df1['actual_price'], kde=True, color='blue', ax=axs[0])\n",
    "axs[0].set_xlabel('Actual Price')\n",
    "axs[0].set_ylabel('Count')\n",
    "\n",
    "# Box plot for ratings\n",
    "df1['rating'] = pd.to_numeric(df1['rating'])\n",
    "sns.boxplot(x='rating', data=df1, ax=axs[1], color='orange')\n",
    "axs[1].set_xlabel('Rating')\n",
    "axs[1].set_ylabel('')\n",
    "\n",
    "plt.tight_layout()\n",
    "\n",
    "plt.show()\n"
   ]
  },
  {
   "cell_type": "code",
   "execution_count": 89,
   "metadata": {},
   "outputs": [
    {
     "data": {
      "image/png": "[encoded data removed]",
      "text/plain": [
       "<Figure size 640x480 with 1 Axes>"
      ]
     },
     "metadata": {},
     "output_type": "display_data"
    }
   ],
   "source": [
    "#Scatter plot with regression line\n",
    "df1['rating'] = pd.to_numeric(df1['rating'], errors='coerce')\n",
    "df1['actual_price'] = pd.to_numeric(df1['actual_price'], errors='coerce')\n",
    "\n",
    "sns.regplot(x='rating', y='actual_price', data=df1,\n",
    "            scatter_kws={'color': 'blue', 'alpha': 0.5},\n",
    "            line_kws={'color': 'red', 'lw': 3})\n",
    "plt.title('Relationship between Rating and Actual Price')\n",
    "plt.xlabel('Rating')\n",
    "plt.ylabel('Actual Price')\n",
    "corr_coeff = df1['rating'].corr(df1['actual_price']).round(2)\n",
    "text_box = f'Correlation Coefficient: {corr_coeff}'\n",
    "plt.text(2, 1800, text_box, bbox=dict(facecolor='white', alpha=0.5))\n",
    "plt.show()"
   ]
  },
  {
   "cell_type": "markdown",
   "metadata": {
    "tags": []
   },
   "source": [
    "### There is a weak positive correlation between rating and price, meaning that higher rated products tend to have higher prices, but not by much The slope of the regression line is small and close to zero, indicating that the change in price with respect to rating is not significant. The average price for a product with rating 4.0 is around ₹5000, according to the regression line.\n",
    "."
   ]
  },
  {
   "cell_type": "markdown",
   "metadata": {},
   "source": [
    "## Refined Research question/interests\n",
    "\n",
    "**Discount percentage vs rating of the products**\n",
    "Plotting Rating vs Discount price did not give much of a significant result. Thereby I want to see how does Discount percentage affect the rating of the product. \n",
    "\n",
    "**Distribution of ratings across different product categories** \n",
    "It can help us to understand how people perceive and evaluate different types of products. It can also help us to identify which categories have higher or lower customer satisfaction and loyalty. For example, if we find that some categories have higher ratings than others, we might want to investigate what factors make those products more appealing and satisfying to the customers. \n",
    "\n",
    "**Number of ratingcount vary with the actual price of the products**\n",
    "It can help to determine what segment of price attracts most customers. As higher number of ratingcount=Higher sale of a particular product. \n",
    "\n",
    "**Distinct Categories with Discount percentage**\n",
    "This reseaech is useful to know which product categories offer significant discounts and which do not. The following can be used to decide on pricing and discounting methods. Also, it might reveal information about consumer preferences and purchasing patterns because some product categories might be more well-liked and therefore more likely to receive discounts.\n",
    "\n",
    "**Rating vs Actual price** \n",
    "This was one of my previous research question, and I have created a Scatter plot with Regression line for depicting the trend between Rating and Actual price. From the plot we know that most products have rating between 3.5 and 4.5 and the price for moost products with ratingog 4.0 is ₹5000. "
   ]
  },
  {
   "cell_type": "code",
   "execution_count": null,
   "metadata": {},
   "outputs": [],
   "source": []
  },
  {
   "cell_type": "code",
   "execution_count": null,
   "metadata": {},
   "outputs": [],
   "source": [
    "import pandas as pd\n",
    "import numpy as np\n",
    "import matplotlib.pyplot as plt\n",
    "import seaborn as sns \n",
    "\n",
    "df10= pd.read_csv('../data/raw/amazon 2.csv')\n",
    "df=pd.read_csv('../data/raw/amazon 2.csv')"
   ]
  },
  {
   "cell_type": "markdown",
   "metadata": {},
   "source": [
    "##### Cleaning the data (Removing the columns that are not being used)."
   ]
  },
  {
   "cell_type": "code",
   "execution_count": null,
   "metadata": {},
   "outputs": [],
   "source": [
    "print(df10.columns)"
   ]
  },
  {
   "cell_type": "code",
   "execution_count": null,
   "metadata": {},
   "outputs": [],
   "source": [
    "df10 = df10[['product_id', 'category', 'discounted_price', 'actual_price',\n",
    "         'discount_percentage', 'rating', 'rating_count', 'review_id',\n",
    "         'review_title', 'review_content']]\n"
   ]
  },
  {
   "cell_type": "code",
   "execution_count": null,
   "metadata": {},
   "outputs": [],
   "source": [
    "print(df10.isnull().sum())"
   ]
  },
  {
   "cell_type": "code",
   "execution_count": null,
   "metadata": {},
   "outputs": [],
   "source": [
    "df10 = df10.dropna()"
   ]
  },
  {
   "cell_type": "code",
   "execution_count": null,
   "metadata": {},
   "outputs": [],
   "source": []
  },
  {
   "cell_type": "code",
   "execution_count": null,
   "metadata": {},
   "outputs": [],
   "source": [
    "def reduce_category(cat):\n",
    "    return cat.split('|')[0]\n",
    "\n",
    "df10['reduced_category'] = df10['category'].apply(reduce_category)\n",
    "print(df10['reduced_category'].unique())\n",
    "\n",
    "df10['rating'] = pd.to_numeric(df10['rating'], errors='coerce') # convert 'rating' to numeric\n",
    "df10['avg_rating'] = df10.groupby('reduced_category')['rating'].transform('mean')\n"
   ]
  },
  {
   "cell_type": "code",
   "execution_count": null,
   "metadata": {},
   "outputs": [],
   "source": [
    "df10"
   ]
  },
  {
   "cell_type": "markdown",
   "metadata": {},
   "source": [
    "##### Created a new column avg_rating, this column will help us to get a quick overview of the products average rating and also help us to analyze product categories have the highest average ratings. "
   ]
  },
  {
   "cell_type": "code",
   "execution_count": null,
   "metadata": {},
   "outputs": [],
   "source": [
    "df10['discounted_price'] = df10['discounted_price'].astype(str).str.replace('₹', '').str.replace(',', '').astype(float)\n",
    "df10['actual_price'] = df10['actual_price'].astype(str).str.replace('₹', '').str.replace(',', '').astype(float)\n",
    "df10['discounted_percent'] = df10['discounted_price'] / df10['actual_price'] \n",
    "df10"
   ]
  },
  {
   "cell_type": "markdown",
   "metadata": {},
   "source": [
    "##### Creating a new column (discount_percent_of_actual) which is discounted price/actual price. This gives discount percentage. This can be helpful in analyzing the discount strategies and customer behaviour with taking into context the number of ratings and reviews for the product."
   ]
  },
  {
   "cell_type": "code",
   "execution_count": null,
   "metadata": {},
   "outputs": [],
   "source": [
    "print(df10.columns)"
   ]
  },
  {
   "cell_type": "markdown",
   "metadata": {},
   "source": [
    "##### I have carried out replace operations to remove currency symbols and comma separators from the discounted_percent. The columns have been converted to float type to perform arithmetic operations on them"
   ]
  },
  {
   "cell_type": "code",
   "execution_count": null,
   "metadata": {},
   "outputs": [],
   "source": [
    "df10 = df10.replace({\"5 star\": 5, \"4 star\": 4, \"3 star\": 3, \"2 star\": 2, \"1 star\": 1})"
   ]
  },
  {
   "cell_type": "code",
   "execution_count": null,
   "metadata": {},
   "outputs": [],
   "source": [
    "def load_and_process(filename):\n",
    "    df10 = pd.read_csv(filename)\n",
    "    \n",
    "    # Method Chain 1: Remove columns not being used, deal with incorrect data, and deal with missing data\n",
    "    df10 = (df10.drop(columns=['product_link', 'review_title', 'review_content'])\n",
    "         .replace('Not available', pd.np.nan)\n",
    "         .dropna())\n",
    "    \n",
    "    # Method Chain 2: Create new columns\n",
    "    df10 = (df10[['product_id', 'category', 'discounted_price', 'actual_price', 'discount_percentage', 'rating']]\n",
    "          .rename(columns={'category': 'reduced_category', 'rating': 'avg_rating', 'discount_percentage': 'discounted_percent'})\n",
    "          .assign(discounted_price=df10['discounted_price'].astype(str),\n",
    "                  actual_price=df10['actual_price'].astype(str))\n",
    "          .assign(reduced_category=df10['reduced_category'].apply(lambda x: x.split('|')[0]),\n",
    "                  avg_rating=pd.to_numeric(df10['avg_rating'], errors='coerce'),\n",
    "                  discounted_price=df10['discounted_price'].str.replace('₹', '').str.replace(',', '').astype(float),\n",
    "                  actual_price=df['actual_price'].str.replace('₹', '').str.replace(',', '').astype(float),\n",
    "                  discounted_percent=df['discounted_price'].str.replace('₹', '').str.replace(',', '').astype(float) / df['actual_price'].str.replace('₹', '').str.replace(',', '').astype(float)))\n",
    "    return df10"
   ]
  },
  {
   "cell_type": "code",
   "execution_count": null,
   "metadata": {},
   "outputs": [],
   "source": []
  },
  {
   "cell_type": "markdown",
   "metadata": {},
   "source": [
    "#### Distribution of discounted percentage:"
   ]
  },
  {
   "cell_type": "code",
   "execution_count": null,
   "metadata": {},
   "outputs": [],
   "source": [
    "# creating a histogram of the distribution of discounted percentage\n",
    "sns.histplot(data=df10, x='discounted_percent', bins=20)\n",
    "plt.xlabel('Discounted Percentage')\n",
    "plt.ylabel('Frequency')\n",
    "plt.title('Distribution of Discounted Percentage')\n",
    "plt.show()\n"
   ]
  },
  {
   "cell_type": "markdown",
   "metadata": {},
   "source": [
    "##### The distribution of discounted percentage shows the frequency distribution of the discount amounts across all the products in the dataset. It gives us an idea of the typical discount percentage that is offered on products in the dataset and how frequently these discounts occur. The x-axis represents the different ranges of discounted percentage and the y-axis represents the frequency of products falling within that range. The histogram shows that the majority of products have a discounted percentage of around 0.4-0.6%. "
   ]
  },
  {
   "cell_type": "markdown",
   "metadata": {},
   "source": [
    "#### Distribution of ratings across different product categories:"
   ]
  },
  {
   "cell_type": "code",
   "execution_count": null,
   "metadata": {},
   "outputs": [],
   "source": [
    "# group the data by category and rating, then count the number of occurrences\n",
    "rating_counts = df.groupby(['category', 'rating'])['rating'].count()\n",
    "\n",
    "# create a stacked bar chart of the rating distribution for each category\n",
    "categories = df['category'].unique()\n",
    "fig, ax = plt.subplots(figsize=(10,6))\n",
    "bottom = None\n",
    "for category in categories:\n",
    "    counts = rating_counts[category]\n",
    "    ax.bar(counts.index, counts.values, bottom=bottom, label=category)\n",
    "    if bottom is None:\n",
    "        bottom = counts.values\n",
    "    else:\n",
    "        bottom += counts.values\n",
    "ax.set_xlabel('Rating')\n",
    "ax.set_ylabel('Count')\n",
    "ax.set_title('Distribution of Ratings by Category')\n",
    "ax.legend()\n",
    "plt.show()\n"
   ]
  },
  {
   "cell_type": "markdown",
   "metadata": {},
   "source": [
    "#####  The bar chart shows the distribution of ratings across different product categories. Each color in the bar represents a category, and the height of each colored section corresponds to the number of products with that rating in that category. The chart allows us to compare the distribution of ratings across different categorier. Thereby in response to the graph we get to know that most products have ratings between 3.9 - 4.3.  From the two visualizations we know that the discount percentage at Amazon is minimum, increasing their profits. Also most of the product categories have good ratings"
   ]
  },
  {
   "cell_type": "markdown",
   "metadata": {},
   "source": [
    "### Number of reviews with the actual price of the products:"
   ]
  },
  {
   "cell_type": "code",
   "execution_count": null,
   "metadata": {},
   "outputs": [],
   "source": [
    "sns.scatterplot(x='actual_price', y='rating_count', data=df)\n",
    "plt.xscale('log')\n",
    "plt.yscale('log')\n",
    "plt.ylabel('Rating Count (log scale)')\n",
    "plt.title('Number of rating count vs. Actual Price')\n",
    "plt.show()\n"
   ]
  },
  {
   "cell_type": "markdown",
   "metadata": {},
   "source": [
    "##### The scatter plot shows the relationship between the actual price of the products and the number of reviews (rating count). The plot shows that for lower actual prices, there are very few reviews (sparse points). As the actual price increases, the number of reviews increases, and the points become more closely packed. Between actual prices of 10^1 to 10^2, the points are densely packed indicating a high number of reviews for products with these prices. The y-axis shows the logarithmic scale of the number of reviews, and it indicates that most products have fewer than 10^3 reviews, with points being more closely packed between 10^2 to 10^3."
   ]
  },
  {
   "cell_type": "code",
   "execution_count": null,
   "metadata": {},
   "outputs": [],
   "source": [
    "df10.to_csv('../data/processed/processed2.csv', index=False)"
   ]
  },
  {
   "cell_type": "code",
   "execution_count": null,
   "metadata": {},
   "outputs": [],
   "source": [
    "avg_discounts = df10.groupby('reduced_category')['discounted_percent'].mean()\n",
    "\n",
    "# creating a bar plot to show average discount percentages by category\n",
    "fig, ax1 = plt.subplots(figsize=(10,6))\n",
    "sns.barplot(x=avg_discounts.index, y=avg_discounts.values, ax=ax1)\n",
    "ax1.set_xlabel('Product Category')\n",
    "ax1.set_ylabel('Average Discount Percentage')\n",
    "ax1.set_title('Average Discount Percentage by Product Category')\n",
    "\n",
    "# creating a violin plot to show the distribution of discount percentages within each category\n",
    "fig, ax2 = plt.subplots(figsize=(10,6))\n",
    "sns.violinplot(x='reduced_category', y='discounted_percent', data=df10, ax=ax2)\n",
    "ax2.set_xlabel('Product Category')\n",
    "ax2.set_ylabel('Discount Percentage')\n",
    "ax2.set_title('Distribution of Discount Percentage by Product Category')\n",
    "\n",
    "\n",
    "plt.setp(ax1.get_xticklabels(), rotation=45, ha='right')\n",
    "plt.setp(ax2.get_xticklabels(), rotation=45, ha='right')\n",
    "\n",
    "plt.tight_layout()\n",
    "plt.show()\n"
   ]
  },
  {
   "cell_type": "markdown",
   "metadata": {},
   "source": [
    "#### The bar plot shows us the average discount percentage for each product category, while the violin plot shows the distribution of discount percentage within each category. From the bar plot, we can see that Office Products and Toys and games have the highest average discount percentage, while Home improvement has the lowest. This information can help us understand which categories tend to have more discounts and which ones tend to have less.\n",
    "\n",
    "#### The violin plot provides us with more information about the distribution of discount percentage within each category. For example, we can see that the distribution of discounts for Electronics is quite wide, with some products having very high discounts and others having very low discounts. On the other hand, the distribution for Toys and Games is relatively narrow, showing heavier discounts.\n",
    "\n",
    "#### Overall, these plots provide us with valuable insights into the discount patterns within each product category, which can be usefull for business optimization for their pricing strategies."
   ]
  },
  {
   "cell_type": "code",
   "execution_count": null,
   "metadata": {},
   "outputs": [],
   "source": []
  },
  {
   "cell_type": "code",
   "execution_count": null,
   "metadata": {},
   "outputs": [],
   "source": [
    "df10['discount_percentage_1'] = df10['discount_percentage'].str.replace('%', '').astype(float)\n"
   ]
  },
  {
   "cell_type": "code",
   "execution_count": null,
   "metadata": {},
   "outputs": [],
   "source": [
    "# Create a hexbin plot\n",
    "fig, ax = plt.subplots(figsize=(10,6))\n",
    "hb = ax.hexbin(x='discount_percentage_1', y='rating', data=df10, gridsize=30, cmap='YlOrRd')\n",
    "ax.set_xlabel('Discount Percentage')\n",
    "ax.set_ylabel('Rating')\n",
    "ax.set_title('Discount Percentage vs Rating')\n",
    "cb = plt.colorbar(hb)\n",
    "cb.set_label('Count')\n",
    "\n",
    "plt.show()"
   ]
  },
  {
   "cell_type": "markdown",
   "metadata": {},
   "source": [
    "## Based on the scatter plot of Discount Percentage vs Rating by Category, we can conclude that:\n",
    "#### Most of the products with high ratings (above 3.5) are sold at a discount of around 10^1 to 10^2 percent.The reduced_category variable shows that the majority of the high-rated products sold at a discount belong to the categories 'Electronics','Computer and Accessories' and 'Home & Kitchen'. The categories 'Electronics' and 'Mobiles & Accessories' have a wider range of discount percentages for products with high ratings. The purple and orange dots represent the categories'Home & Kitchen' and 'Electronics', respectively, which have the most high-rated products sold at a discount."
   ]
  },
  {
   "cell_type": "markdown",
   "metadata": {},
   "source": []
  },
  {
   "cell_type": "markdown",
   "metadata": {},
   "source": [
    "### Conclusion"
   ]
  },
  {
   "cell_type": "markdown",
   "metadata": {},
   "source": [
    "#### Research question 1\n",
    "##### Discount percentage vs rating of the products \n",
    "###### Based on the analysis conducted(Hexbin plot for Discount price and Rating), we can conclude that the majority of the products in the dataset have ratings between 4 and 5, with discounted prices ranging between 100 to 140 for products with a rating of 4.2 and higher. The distribution of discounted percentages across all products indicates that most products have a discounted percentage of around 0.4-0.6% (We got this from the bar plot for Distributionof Frequency). Furthermore, the scatter plot for Discount Percentage vs Rating by Category reveals that high-rated products (above 3.5) are typically sold at discounts ranging from log (10^1 to 10^2)  percent. \n",
    "\n",
    "#### Research question 2\n",
    "##### Distribution of ratings across different product categories. For this I have created a scatter plot of Discount Percentage vs Rating by Category( This graph was also used for answering Discount percentage vs rating of the products). we know that Most of the products have high ratings (above 3.5). \n",
    "\n",
    "#### Research question 3\n",
    "##### Number of ratingcount vary with the actual price of the products:\n",
    "###### For this I created a scatter plot showing the relationship between the actual price of the products and the number of reviews (rating count). The plot shows that for lower actual prices, there are very few reviews (sparse points). As the actual price increases, the number of reviews increases, and the points become more closely packed. Between actual prices of 10^1 to 10^2(Logarithmic scale) , the points are densely packed indicating a high number of reviews for products with these prices. The y-axis shows the logarithmic scale of the number of reviews, and it indicates that most products have fewer than 10^3(Log scale) reviews, with points being more closely packed between 10^2 to 10^3(Log scale).\n",
    "\n",
    "#### Research question 4\n",
    "##### Distinct Categories with Discount percentage: \n",
    "###### The bar plot shows us the average discount percentage for each product category, while the violin plot shows the distribution of discount percentage within each category. From the bar plot, we can see that Office Products and Toys and games have the highest average discount percentage, while Home improvement has the lowest. This information can help us understand which categories tend to have more discounts and which ones tend to have less.The violin plot provides us with more information about the distribution of discount percentage within each category. For example, we can see that the distribution of discounts for Electronics is quite wide, with some products having very high discounts and others having very low discounts. On the other hand, the distribution for Toys and Games is relatively narrow, showing heavier discounts.Overall, these plots provide us with valuable insights into the discount patterns within each product category, which can be usefull for business optimization for their pricing strategies\n",
    "\n",
    "#### Research question 5\n",
    "##### Rating vs Actual price:\n",
    "###### I have created a Scatter plot with Regression line for depicting the trend between Rating and Actual price. From the plot we know that most products have rating between 3.5 and 4.5 and the price for moost products with ratingog 4.0 is ₹5000.I have also created two more plots for the frequency of actual price (Histogram) and count of Ratings (Box plot).Confirming the result we got from the scatter plot. \n",
    "\n",
    "\n",
    "\n",
    "\n",
    "¶\n"
   ]
  },
  {
   "cell_type": "code",
   "execution_count": null,
   "metadata": {},
   "outputs": [],
   "source": []
  },
  {
   "cell_type": "code",
   "execution_count": null,
   "metadata": {},
   "outputs": [],
   "source": []
  },
  {
   "cell_type": "code",
   "execution_count": null,
   "metadata": {},
   "outputs": [],
   "source": []
  },
  {
   "cell_type": "code",
   "execution_count": null,
   "metadata": {},
   "outputs": [],
   "source": []
  }
 ],
 "metadata": {
  "kernelspec": {
   "display_name": "Python 3 (ipykernel)",
   "language": "python",
   "name": "python3"
  },
  "language_info": {
   "codemirror_mode": {
    "name": "ipython",
    "version": 3
   },
   "file_extension": ".py",
   "mimetype": "text/x-python",
   "name": "python",
   "nbconvert_exporter": "python",
   "pygments_lexer": "ipython3",
   "version": "3.9.12"
  }
 },
 "nbformat": 4,
 "nbformat_minor": 4
}
