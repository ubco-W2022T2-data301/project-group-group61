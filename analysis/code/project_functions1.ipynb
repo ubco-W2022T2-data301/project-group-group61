{
 "cells": [
  {
   "cell_type": "code",
   "execution_count": 1,
   "id": "8f97b529-308a-4df1-9236-319596ebcd28",
   "metadata": {},
   "outputs": [],
   "source": [
    "import pandas as pd\n",
    "import numpy as np\n",
    "import matplotlib.pyplot as plt\n",
    "import seaborn as sns"
   ]
  },
  {
   "cell_type": "code",
   "execution_count": 2,
   "id": "1b8d2dd6-ad0b-4e83-89a2-758deb6c1099",
   "metadata": {},
   "outputs": [],
   "source": [
    "def load_and_process(filename):\n",
    "    df = pd.read_csv(filename)\n",
    "    \n",
    "    # Method Chain 1: Remove columns not being used, deal with incorrect data, and deal with missing data\n",
    "    df = (df.drop(columns=[ \"product_link\"])\n",
    "         .replace(\"Not available\", pd.np.nan)\n",
    "         .dropna())\n",
    "    \n",
    "    # Method Chain 2: Create new columns\n",
    "    df = (df.assign(category_type=df[\"category\"].apply(lambda x: x.split(\" > \")[0]))\n",
    "          .replace({\"5 star\": 5, \"4 star\": 4, \"3 star\": 3, \"2 star\": 2, \"1 star\": 1}))\n",
    "    \n",
    "    # Method Chain 3: Deal with outliers\n",
    "    q1 = df[\"discounted_price\"].quantile(0.25)\n",
    "    q3 = df[\"discounted_price\"].quantile(0.75)\n",
    "    iqr = q3 - q1\n",
    "    lower_bound = q1 - 1.5*iqr\n",
    "    upper_bound = q3 + 1.5*iqr\n",
    "    df = df[(df[\"discounted_price\"] >= lower_bound) & (df[\"discounted_price\"] <= upper_bound)]\n",
    "    \n",
    "    \n",
    "    return df"
   ]
  },
  {
   "cell_type": "code",
   "execution_count": null,
   "id": "eb215c8f-8db4-4e81-9956-086fb2de202a",
   "metadata": {},
   "outputs": [],
   "source": []
  }
 ],
 "metadata": {
  "kernelspec": {
   "display_name": "Python 3 (ipykernel)",
   "language": "python",
   "name": "python3"
  },
  "language_info": {
   "codemirror_mode": {
    "name": "ipython",
    "version": 3
   },
   "file_extension": ".py",
   "mimetype": "text/x-python",
   "name": "python",
   "nbconvert_exporter": "python",
   "pygments_lexer": "ipython3",
   "version": "3.10.9"
  }
 },
 "nbformat": 4,
 "nbformat_minor": 5
}
