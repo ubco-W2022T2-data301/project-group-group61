{
 "cells": [
  {
   "cell_type": "code",
   "execution_count": null,
   "id": "e5bd3fbb-0f89-498e-867e-dd6b1496ce68",
   "metadata": {},
   "outputs": [],
   "source": [
    "import pandas as pd\n",
    "import numpy as np\n",
    "import matplotlib.pyplot as plt\n",
    "import seaborn as sns\n"
   ]
  },
  {
   "cell_type": "code",
   "execution_count": 1,
   "id": "bba0f14e-9cc4-4b08-88cb-30bbfda0e951",
   "metadata": {},
   "outputs": [],
   "source": [
    "def load_and_process(filename):\n",
    "    df10 = pd.read_csv(filename)\n",
    "    \n",
    "    # Method Chain 1: Remove columns not being used, deal with incorrect data, and deal with missing data\n",
    "    df10 = (df10.drop(columns=['product_link', 'review_title', 'review_content'])\n",
    "         .replace('Not available', pd.np.nan)\n",
    "         .dropna())\n",
    "    \n",
    "    # Method Chain 2: Create new columns\n",
    "    df10 = (df10[['product_id', 'category', 'discounted_price', 'actual_price', 'discount_percentage', 'rating']]\n",
    "          .rename(columns={'category': 'reduced_category', 'rating': 'avg_rating', 'discount_percentage': 'discounted_percent'})\n",
    "          .assign(discounted_price=df10['discounted_price'].astype(str),\n",
    "                  actual_price=df10['actual_price'].astype(str))\n",
    "          .assign(reduced_category=df10['reduced_category'].apply(lambda x: x.split('|')[0]),\n",
    "                  avg_rating=pd.to_numeric(df10['avg_rating'], errors='coerce'),\n",
    "                  discounted_price=df10['discounted_price'].str.replace('₹', '').str.replace(',', '').astype(float),\n",
    "                  actual_price=df['actual_price'].str.replace('₹', '').str.replace(',', '').astype(float),\n",
    "                  discounted_percent=df['discounted_price'].str.replace('₹', '').str.replace(',', '').astype(float) / df['actual_price'].str.replace('₹', '').str.replace(',', '').astype(float)))\n",
    "    return df10"
   ]
  }
 ],
 "metadata": {
  "kernelspec": {
   "display_name": "Python 3 (ipykernel)",
   "language": "python",
   "name": "python3"
  },
  "language_info": {
   "codemirror_mode": {
    "name": "ipython",
    "version": 3
   },
   "file_extension": ".py",
   "mimetype": "text/x-python",
   "name": "python",
   "nbconvert_exporter": "python",
   "pygments_lexer": "ipython3",
   "version": "3.9.12"
  }
 },
 "nbformat": 4,
 "nbformat_minor": 5
}
